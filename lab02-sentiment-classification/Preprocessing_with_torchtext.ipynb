{
  "cells": [
    {
      "cell_type": "markdown",
      "metadata": {
        "id": "9DYq9O6F0pz4"
      },
      "source": [
        "# Preprocessing with torchext\n",
        "\n",
        "This notebook gives a quick explanation on how to use torchtext.data.Field to prepare your data.\n",
        "\n",
        "Resources to explore it further are linked at the end."
      ]
    },
    {
      "cell_type": "markdown",
      "metadata": {
        "id": "kcblipisCj6F"
      },
      "source": [
        "## 1. Data.Field\n",
        "\n",
        "In Pytorch, torchtext.data is a module that helps you with preprocessing your data and load popular datasets.\n",
        "\n",
        "As you can find in the documentation (https://torchtext.readthedocs.io/en/latest/data.html)\n",
        "\n",
        "The data module provides the following:\n",
        "\n",
        "- Ability to define a preprocessing pipeline\n",
        "- Batching, padding, and numericalizing (including building a vocabulary object)\n",
        "- Wrapper for dataset splits (train, validation, test)\n",
        "- Loader a custom NLP dataset\n",
        "\n",
        "\n",
        "In the [second lab](https://colab.research.google.com/github/ImperialNLP/NLPLabs/blob/master/lab02/lab02.ipynb), we use the subclass [data.Field](https://torchtext.readthedocs.io/en/latest/data.html#fields) to make the preprocessing of our dataset faster, before feeding it to your model. \n",
        "\n",
        "\n",
        "When calling ``data.Field()`` you have many parameters that you can set to define how to process your dataset before turning it into tensors. In the example below we use :\n",
        "- **sequential**: If set to True, allows tokenization.\n",
        "- **lower**: If True, apply lowercase to all text.\n",
        "- **tokenizer**: Can be assigned a tokenizer function. Can be set to ``\"spacy\"``. By default is ``string.split``.   \n",
        "\n",
        "Other useful parameters are: \n",
        "- **eos_token**: Adds end of sentence token\n",
        "- **stop_words**: Takes as value list of stop words to remove from our tokens.\n",
        "- **preprocessing** : Takes as value a preprocessing pipeline that is called after tokenizing\n",
        "- **fix_length** : pads all samples to given length\n",
        "- **use_vocab** : If False, keeps samples as numerical data instead of creating a word2idx ``Vocab`` object.\n",
        "\n"
      ]
    },
    {
      "cell_type": "markdown",
      "metadata": {
        "id": "85GC6UJFIP7R"
      },
      "source": [
        "## 2. Sentiment analysis lab code\n",
        "The following code follows the use of torchtext for processing from the second lab and adds some more explanation."
      ]
    },
    {
      "cell_type": "markdown",
      "metadata": {
        "id": "hL5qNMBTSMc-"
      },
      "source": [
        "### 2.1 Import"
      ]
    },
    {
      "cell_type": "code",
      "execution_count": null,
      "metadata": {},
      "outputs": [],
      "source": [
        "## We will use torchtext 0.11.2 for this script. \n",
        "# Google colab currently uses 0.14 which can cause backwards incompatibility\n",
        "! pip install torchtext==0.11.2"
      ]
    },
    {
      "cell_type": "code",
      "execution_count": null,
      "metadata": {
        "id": "18koMOeahzjq"
      },
      "outputs": [],
      "source": [
        "import torch\n",
        "from torchtext.legacy import data, datasets\n",
        "from torch.utils.data import DataLoader\n",
        "import spacy\n",
        "import random\n",
        "\n",
        "SEED = 42\n",
        "\n",
        "DEVICE = torch.device('cuda' if torch.cuda.is_available() else 'cpu')\n"
      ]
    },
    {
      "cell_type": "markdown",
      "metadata": {
        "id": "WpI5FQQ3SP8J"
      },
      "source": [
        "### 2.2 Load and process the dataset"
      ]
    },
    {
      "cell_type": "markdown",
      "metadata": {
        "id": "PoLOOqKikwOY"
      },
      "source": [
        "In the code below we download the IMDb dataset and splits it into the canonical train/test splits as torchtext.datasets objects. We process the data using the ``Field`` objects."
      ]
    },
    {
      "cell_type": "code",
      "execution_count": null,
      "metadata": {
        "colab": {
          "base_uri": "https://localhost:8080/"
        },
        "id": "PhTHybCT28vR",
        "outputId": "bb1c7b54-727b-428e-939a-39757a26705d"
      },
      "outputs": [],
      "source": [
        "\n",
        "spacy_en = spacy.load('en_core_web_sm')\n",
        "\n",
        "def tokenizer(text): # create a custom tokenizer function\n",
        "    return [tok.text for tok in spacy_en.tokenizer(text)]\n",
        "\n",
        "text_field = data.Field(sequential=True, tokenize=tokenizer, lower=True)\n",
        "label_field = data.Field(sequential=False)\n",
        "\n",
        "# get pre-defined split and apply Field transformations\n",
        "train, test_init = datasets.IMDB.splits(text_field, label_field)\n",
        "\n",
        "# define our own validation and test set (initial test set is too large)\n",
        "train, valid_test = train.split(split_ratio=0.9, random_state=random.seed(SEED))\n",
        "valid, test = valid_test.split(split_ratio=0.5, random_state=random.seed(SEED))\n",
        "\n",
        "print(f'Train size: {len(train)}')\n",
        "print(f'Validation size: {len(valid)}')\n",
        "print(f'Test size: {len(test)}')"
      ]
    },
    {
      "cell_type": "markdown",
      "metadata": {
        "id": "E0qHZRJFILJi"
      },
      "source": [
        "Our ``data.Field`` object has a vocab attribute that we can build by calling the ``build_vocab()`` function with our dataset as input. This will create a lookup table for our vocabulary and their embedding ( aka numerical representation). Here we supply the parameter \"vectors\" to assign glove embeddings to id's corresponding to words in our vocabulary."
      ]
    },
    {
      "cell_type": "code",
      "execution_count": null,
      "metadata": {
        "colab": {
          "base_uri": "https://localhost:8080/"
        },
        "id": "gH0i3CuZIJQe",
        "outputId": "9b3bd943-482b-4345-d230-9e0f31f329a4"
      },
      "outputs": [],
      "source": [
        "# build vocabulary with maximum size (less frequent words are not considered)\n",
        "# load the pre-trained word embeddings.\n",
        "EMBEDDING_DIM = 50\n",
        "\n",
        "text_field.build_vocab(train, max_size=25000, vectors=f\"glove.6B.{EMBEDDING_DIM}d\")\n",
        "label_field.build_vocab(train)"
      ]
    },
    {
      "cell_type": "markdown",
      "metadata": {
        "id": "P4lwuh4llF88"
      },
      "source": [
        "We can check our vocabulary by printing the most common words."
      ]
    },
    {
      "cell_type": "code",
      "execution_count": null,
      "metadata": {
        "colab": {
          "base_uri": "https://localhost:8080/"
        },
        "id": "_mDr58W7lFI4",
        "outputId": "2ff6339f-8b3f-4292-b443-607f6185a3d3"
      },
      "outputs": [],
      "source": [
        "print(text_field.vocab.freqs.most_common(20))"
      ]
    },
    {
      "cell_type": "markdown",
      "metadata": {
        "id": "_sgHRNKGlXB_"
      },
      "source": [
        "And check our labels.\n",
        " "
      ]
    },
    {
      "cell_type": "code",
      "execution_count": null,
      "metadata": {
        "colab": {
          "base_uri": "https://localhost:8080/"
        },
        "id": "STYyEJnklaMc",
        "outputId": "9550d30a-7f6a-40f4-e1cd-aa879bac236b"
      },
      "outputs": [],
      "source": [
        "print(label_field.vocab.stoi)"
      ]
    },
    {
      "cell_type": "markdown",
      "metadata": {
        "id": "6L_A-5JaNfdr"
      },
      "source": [
        "We can also access the vocabulary size and our embeddings, useful when training our models."
      ]
    },
    {
      "cell_type": "code",
      "execution_count": null,
      "metadata": {
        "id": "zL_IH7r0R6aq"
      },
      "outputs": [],
      "source": [
        "voc_size = len(text_field.vocab) \n",
        "pretrained_embeddings = text_field.vocab.vectors"
      ]
    },
    {
      "cell_type": "markdown",
      "metadata": {
        "id": "jvZHuu9WSAQk"
      },
      "source": [
        "Here is an example on how it can be used to initialise a model with our Glove embeddings."
      ]
    },
    {
      "cell_type": "code",
      "execution_count": null,
      "metadata": {
        "id": "W8xV5sdzNfKC"
      },
      "outputs": [],
      "source": [
        "from torch import nn\n",
        "# Build an FFNN model with an Embedding layer.\n",
        "class FFNN(nn.Module):\n",
        "    def __init__(self, embedding_dim, hidden_dim, vocab_size, num_classes):\n",
        "        super().__init__()\n",
        "        self.embedding = nn.Embedding(vocab_size, embedding_dim)\n",
        "        # hidden layer\n",
        "        self.fc1 = nn.Linear(embedding_dim, hidden_dim)   \n",
        "        # activation\n",
        "        self.relu1 = nn.ReLU()       \n",
        "        # output layer\n",
        "        self.fc2 = nn.Linear(hidden_dim, num_classes)  \n",
        "\n",
        "    def forward(self, x):\n",
        "        # x has shape (batch_size, max_sent_len)\n",
        "        embedded = self.embedding(x)        \n",
        "        sent_lens = x.ne(0).sum(1, keepdims=True)\n",
        "        averaged = embedded.sum(1) / sent_lens\n",
        "        out = self.fc1(averaged)\n",
        "        out = self.relu1(out)\n",
        "        out = self.fc2(out)\n",
        "        return out\n",
        "\n",
        "# Get vocabulary size for the input dimension of the first layer\n",
        "INPUT_DIM = len(text_field.vocab) \n",
        "\n",
        "EPOCHS = 10\n",
        "LRATE = 0.5\n",
        "\n",
        "# we define our embedding dimension (dimensionality of the output of the first layer)\n",
        "EMBEDDING_DIM = 50\n",
        "# dimensionality of the output of the second hidden layer\n",
        "HIDDEN_DIM = 50\n",
        "# the output dimension is the number of classes, 1 for binary classification\n",
        "OUTPUT_DIM = 1\n",
        "\n",
        "# Construct the model\n",
        "model = FFNN(EMBEDDING_DIM, HIDDEN_DIM, INPUT_DIM, OUTPUT_DIM)\n",
        "\n",
        "# Initialize the embedding layer with the Glove embeddings from the\n",
        "# vocabulary\n",
        "pretrained_embeddings = text_field.vocab.vectors\n",
        "model.embedding.weight.data.copy_(pretrained_embeddings)"
      ]
    },
    {
      "cell_type": "markdown",
      "metadata": {
        "id": "MnVlM9o_SZAn"
      },
      "source": [
        "### 2.3 Batch iterator"
      ]
    },
    {
      "cell_type": "markdown",
      "metadata": {
        "id": "ZdwB790VhGk2"
      },
      "source": [
        "Finally, we build our iterator object. The iterator splits our sets into batches for training and for validation and testing if necessary (not enough memory to hold all samples at once). We then iterate over those batches during our training/validation loop.\n",
        "\n",
        "In the field of computer vision, we often use `DataLoader` to iterate over batches, but for text we'll use a `BucketIterator`. It is a special type of iterator that will return a batch of examples where each example is of a similar length, minimizing the amount of padding per example. Torchtext will pad for us automatically (handled by the `Field` object).\n",
        "\n",
        "\n",
        "We also want to place the tensors returned by the iterator on the GPU (if you're using one). PyTorch handles this using `torch.device`, we then pass this device to the iterator.\n",
        "\n"
      ]
    },
    {
      "cell_type": "code",
      "execution_count": null,
      "metadata": {
        "id": "udx8rc4-hF9d"
      },
      "outputs": [],
      "source": [
        "# get iterators over the data\n",
        "# place iterators on the GPU if possible\n",
        "\n",
        "# define our batch size\n",
        "BATCH_SIZE = 64\n",
        "\n",
        "train_iterator, valid_iterator, test_iterator = data.BucketIterator.splits(\n",
        "  (train, valid, test),\n",
        "  batch_sizes=(BATCH_SIZE, BATCH_SIZE, BATCH_SIZE), device=DEVICE)"
      ]
    },
    {
      "cell_type": "markdown",
      "metadata": {
        "id": "ybmJKhC9-gFi"
      },
      "source": [
        "Batch object is not iterable like pytorch Dataloader. A single Batch object contains the data of one batch .The text and labels can be accessed via column names.\n",
        "\n",
        "Here we will check the first batch of th iterator."
      ]
    },
    {
      "cell_type": "code",
      "execution_count": null,
      "metadata": {
        "colab": {
          "base_uri": "https://localhost:8080/"
        },
        "id": "iNmNEKIWEd0W",
        "outputId": "60071e35-db6c-4d65-a024-7743bbaf2db7"
      },
      "outputs": [],
      "source": [
        "print(next(iter(train_iterator)))"
      ]
    },
    {
      "cell_type": "code",
      "execution_count": null,
      "metadata": {},
      "outputs": [],
      "source": []
    },
    {
      "cell_type": "markdown",
      "metadata": {
        "id": "fnzhOleUH8tr"
      },
      "source": [
        "We can also iterate over all batches.\n"
      ]
    },
    {
      "cell_type": "code",
      "execution_count": null,
      "metadata": {
        "id": "ZqX8IjHvo29P"
      },
      "outputs": [],
      "source": [
        "# will output all elements\n",
        "for batch in train_iterator:\n",
        "    print(batch.text)\n",
        "    print(batch.label)\n",
        "    # Training/evaluation code"
      ]
    },
    {
      "cell_type": "markdown",
      "metadata": {
        "id": "O0KQAQlRLVc5"
      },
      "source": [
        "## 3. Some more examples"
      ]
    },
    {
      "cell_type": "markdown",
      "metadata": {
        "id": "ONpp_sIIjeSD"
      },
      "source": [
        "### 3.1 Using spacy tokenizer and stop words"
      ]
    },
    {
      "cell_type": "code",
      "execution_count": null,
      "metadata": {
        "id": "DoghKeDeKd0h"
      },
      "outputs": [],
      "source": [
        "spacy_nlp = spacy.load('en_core_web_sm')\n",
        "spacy_stop_words = spacy.lang.en.stop_words.STOP_WORDS\n",
        "print(spacy_stop_words)\n",
        "\n",
        "text_field = data.Field(tokenize='spacy', lower=True, stop_words=spacy_stop_words)\n",
        "label_field = data.Field(sequential=False, use_vocab=False) # we set sequential to false as we don't tokenise our labels\n"
      ]
    },
    {
      "cell_type": "markdown",
      "metadata": {
        "id": "0Gs8EMXaug03"
      },
      "source": [
        "### 3.2 LabelField\n",
        "We can use the normal Field() object for our labels or we can also use the specialised object LabelField(). Here we are forcing our labels to be of float type."
      ]
    },
    {
      "cell_type": "code",
      "execution_count": null,
      "metadata": {
        "id": "guZKt4ygvQfJ"
      },
      "outputs": [],
      "source": [
        "label_field = data.LabelField(dtype=torch.float)"
      ]
    },
    {
      "cell_type": "markdown",
      "metadata": {
        "id": "cA0v7aJSj0JN"
      },
      "source": [
        "\n",
        "### 3.3 Using our own tokenizer and dataset"
      ]
    },
    {
      "cell_type": "markdown",
      "metadata": {
        "id": "NG_1vh0FDpKk"
      },
      "source": [
        "In this example, we will import our own dataset and process it with torchtext."
      ]
    },
    {
      "cell_type": "code",
      "execution_count": null,
      "metadata": {
        "colab": {
          "base_uri": "https://localhost:8080/"
        },
        "id": "3sganV7GJHrk",
        "outputId": "bff68b44-cfee-42b6-db0d-010a628d3f12"
      },
      "outputs": [],
      "source": [
        "# We create a new folder where we will put our downloaded dataset - in this case a text file\n",
        "!mkdir dataset\n",
        "!wget -O dataset/corpus.txt https://gist.githubusercontent.com/kunalj101/ad1d9c58d338e20d09ff26bcc06c4235/raw/1d2261e2276cbb0257a2ed6e2f1f4320464c7c07/corpus"
      ]
    },
    {
      "cell_type": "markdown",
      "metadata": {
        "id": "Cwrka0VHI2IS"
      },
      "source": [
        "\n",
        "To use batch iterators over our dataset such as ``BucketIterator``, we need to load our data in a ``Dataset`` class. With torchext we commonly use ``TabularDataset``, which a wrapper around classical ``Dataset``. It is specifically designed to load csv, tsv or json files and process them using the Field objects.  \n",
        "\n",
        "Our dataset is a .txt file so we will load its content and put our data and labels into a dataframe. We then divide it into train, validation and test sets and save the results into csv files.\n",
        "\n"
      ]
    },
    {
      "cell_type": "code",
      "execution_count": null,
      "metadata": {
        "id": "903Gl5bNEpdU"
      },
      "outputs": [],
      "source": [
        "import os\n",
        "import pandas as pd\n",
        "\n",
        "\n",
        "def load_data(filename):\n",
        "  data = open(filename).read()\n",
        "  labels, texts = [], []\n",
        "\n",
        "  for line in data.split(\"\\n\"):\n",
        "      content = line.split(' ', 1)\n",
        "      labels.append(content[0])\n",
        "      texts.append(content[1])\n",
        "  \n",
        "  return texts, labels\n",
        "  \n",
        "dataset_dir = './dataset'\n",
        "data_file = os.path.join(dataset_dir,'corpus.txt')\n",
        "\n",
        "text_data, labels = load_data(data_file)\n"
      ]
    },
    {
      "cell_type": "code",
      "execution_count": null,
      "metadata": {
        "colab": {
          "base_uri": "https://localhost:8080/",
          "height": 195
        },
        "id": "ldwd3CeY64mg",
        "outputId": "92e46288-1781-4cdf-a1f8-55a6dcd3fb82"
      },
      "outputs": [],
      "source": [
        "# building our dataframe\n",
        "\n",
        "raw_data = {'Text' : text_data, 'Label': labels}\n",
        "df = pd.DataFrame(raw_data, columns=[\"Text\", \"Label\"])\n",
        "\n",
        "df.head()"
      ]
    },
    {
      "cell_type": "code",
      "execution_count": null,
      "metadata": {
        "colab": {
          "base_uri": "https://localhost:8080/"
        },
        "id": "5ANICerIrsWg",
        "outputId": "49344987-c8d9-46d5-f180-e24c7fb10b20"
      },
      "outputs": [],
      "source": [
        "from sklearn.model_selection import train_test_split\n",
        "\n",
        "#splitting into  train,val,test sets\n",
        "\n",
        "train,test = train_test_split(df, test_size = 0.33, random_state = random.seed(SEED))\n",
        "train, val = train_test_split(train, test_size = 0.10, random_state = random.seed(SEED))\n",
        "\n",
        "print(f'Train size: {len(train)}')\n",
        "print(f'Validation size: {len(val)}')\n",
        "print(f'Test size: {len(test)}')\n",
        "\n",
        "\n",
        "# save it to csv files \n",
        "train.to_csv(\"train.csv\", index=False)\n",
        "test.to_csv(\"test.csv\", index=False)\n",
        "val.to_csv(\"val.csv\", index=False)"
      ]
    },
    {
      "cell_type": "code",
      "execution_count": null,
      "metadata": {
        "id": "cfUeakhNKyXv"
      },
      "outputs": [],
      "source": [
        "from torchtext.legacy.data import Field, BucketIterator, TabularDataset\n",
        "\n",
        "# create a custom tokenizer function\n",
        "def tokenizer(text): \n",
        "  doc = nlp(text)\n",
        "  # Remove stop words, punctuation symbols and non alphabetic characters\n",
        "  tokens = [token.text.lower() for token in doc if not token.is_stop \n",
        "            and not token.is_punct\n",
        "            and token.is_alpha] #keep only alphabetic characters\n",
        "  return tokens\n",
        "\n",
        "TEXT = data.Field(tokenize='spacy')\n",
        "LABEL = data.LabelField(sequential=False)\n",
        "\n",
        "# order should match the columns order in our csv/tsv file\n",
        "# if no processing was required, we set None\n",
        "data_fields = [('Text', TEXT), ('Label', LABEL)]\n",
        "\n",
        "# We will load our csv files into Dataset objects \n",
        "train, val, test = data.TabularDataset.splits(\n",
        "                                        path = './',\n",
        "                                        train = 'train.csv',\n",
        "                                        validation = 'val.csv',\n",
        "                                        test = 'test.csv',\n",
        "                                        format = 'csv',\n",
        "                                        fields = data_fields,\n",
        "                                        skip_header = True)\n",
        "\n",
        "# possible dimensions for glove embeddings\n",
        "EMBEDDING_DIM = [25, 50, 100, 200, 300]\n",
        "\n",
        "TEXT.build_vocab(train,max_size=25000, vectors=f\"glove.6B.{EMBEDDING_DIM[1]}d\")\n",
        "LABEL.build_vocab(train) \n"
      ]
    },
    {
      "cell_type": "code",
      "execution_count": null,
      "metadata": {
        "colab": {
          "base_uri": "https://localhost:8080/"
        },
        "id": "MUUAWNbheJP-",
        "outputId": "9b434d4b-e91f-4ce9-8b43-7be5c3862df2"
      },
      "outputs": [],
      "source": [
        "print(train[0].Text)\n",
        "print(train[0].Label)"
      ]
    },
    {
      "cell_type": "code",
      "execution_count": null,
      "metadata": {
        "colab": {
          "base_uri": "https://localhost:8080/"
        },
        "id": "DCdmgovvClHY",
        "outputId": "d3c26878-96c8-4a85-db39-6357eb22dbca"
      },
      "outputs": [],
      "source": [
        "print(LABEL.vocab.stoi)"
      ]
    },
    {
      "cell_type": "code",
      "execution_count": null,
      "metadata": {
        "id": "wMu71YunC5nW"
      },
      "outputs": [],
      "source": [
        "train_iter, val_iter,_test_iter = data.BucketIterator.splits(\n",
        "                                    (train, val, test), batch_sizes= (BATCH_SIZE, BATCH_SIZE, BATCH_SIZE),\n",
        "                                    sort_key=lambda x: len(x.Text), device=DEVICE)"
      ]
    },
    {
      "cell_type": "markdown",
      "metadata": {
        "id": "z68bO3Ur_Wnr"
      },
      "source": [
        "### 3.4 Using a Pipeline\n",
        "\n",
        "We can define a pipeline that will be applied after we tokenised our documents. This can be useful if we want to clearly separate tokenisation from cleaning our tokens."
      ]
    },
    {
      "cell_type": "code",
      "execution_count": null,
      "metadata": {
        "id": "riHj8hGSLjlp"
      },
      "outputs": [],
      "source": [
        "# defining our pipelines\n",
        "\n",
        "def clean_string(tokens):\n",
        "  tokens = [t.replace(\">\",\"\") for t in tokens]\n",
        "  return tokens\n",
        "\n",
        "def convert_to_int(l):\n",
        "  return [int(y) for y in l]\n",
        "\n",
        "preprocess_pipeline = data.Pipeline(clean_string)\n",
        "preprocess_pipeline_label = data.Pipeline(convert_to_int)\n",
        "\n",
        "text_field = data.Field(tokenize='spacy', lower=True, preprocessing=preprocess_pipeline)\n",
        "label_field = data.Field(sequential=False, use_vocab=False, postprocessing = preprocess_pipeline_label)"
      ]
    },
    {
      "cell_type": "markdown",
      "metadata": {
        "id": "6MnQDWg89aRw"
      },
      "source": [
        "## 4. More Tutorials\n",
        "\n",
        "* A tutorial for using torchtext for preprocessing can be found here: [Part 1](https://towardsdatascience.com/use-torchtext-to-load-nlp-datasets-part-i-5da6f1c89d84) and [Part 2](https://towardsdatascience.com/use-torchtext-to-load-nlp-datasets-part-ii-f146c8b9a496). You can find a deeper tutorial [here](http://anie.me/On-Torchtext/).\n",
        "\n",
        "* Torchtext for machine translation [here](https://towardsdatascience.com/how-to-use-torchtext-for-neural-machine-translation-plus-hack-to-make-it-5x-faster-77f3884d95)\n",
        "\n",
        "* Pytorch example for using torchtext for BERT [here](https://github.com/pytorch/text/tree/master/examples/BERT)\n",
        "\n",
        "* Other examples of using torchtext for Transformers: \n",
        "  * [Language model](https://ryanong.co.uk/2020/06/28/day-180-learning-pytorch-language-model-with-nn-transformer-and-torchtext-part-1/)\n",
        "  * [Ben Trevett - Sentiment analysis](https://colab.research.google.com/github/bentrevett/pytorch-sentiment-analysis/blob/master/6%20-%20Transformers%20for%20Sentiment%20Analysis.ipynb)"
      ]
    }
  ],
  "metadata": {
    "colab": {
      "collapsed_sections": [],
      "name": "Preprocessing with torchtext.ipynb",
      "provenance": [],
      "toc_visible": true
    },
    "kernelspec": {
      "display_name": "Python 3.9.4 64-bit",
      "language": "python",
      "name": "python3"
    },
    "language_info": {
      "codemirror_mode": {
        "name": "ipython",
        "version": 3
      },
      "file_extension": ".py",
      "mimetype": "text/x-python",
      "name": "python",
      "nbconvert_exporter": "python",
      "pygments_lexer": "ipython3",
      "version": "3.9.4"
    },
    "vscode": {
      "interpreter": {
        "hash": "aee8b7b246df8f9039afb4144a1f6fd8d2ca17a180786b69acc140d282b71a49"
      }
    }
  },
  "nbformat": 4,
  "nbformat_minor": 0
}
